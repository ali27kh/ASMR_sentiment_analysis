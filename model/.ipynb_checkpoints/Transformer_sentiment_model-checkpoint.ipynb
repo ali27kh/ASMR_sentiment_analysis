{
 "cells": [
  {
   "cell_type": "code",
   "execution_count": 3,
   "metadata": {
    "id": "E6fpqoYPOW8A"
   },
   "outputs": [],
   "source": [
    "import pandas as pd\n",
    "import numpy as np\n",
    "import re\n",
    "import nltk\n",
    "from nltk.corpus import stopwords\n",
    "from sklearn.model_selection import train_test_split\n",
    "from sklearn.preprocessing import LabelEncoder\n",
    "from sklearn.metrics import accuracy_score, classification_report\n",
    "import tensorflow as tf\n",
    "from tensorflow.keras.preprocessing.text import Tokenizer\n",
    "from tensorflow.keras.preprocessing.sequence import pad_sequences\n",
    "from tensorflow.keras.models import Model\n",
    "from tensorflow.keras.layers import Input, Embedding, Dense, Attention, LayerNormalization, Dropout"
   ]
  },
  {
   "cell_type": "code",
   "execution_count": 4,
   "metadata": {
    "id": "cmdx05WCQ-sp"
   },
   "outputs": [],
   "source": [
    "df = pd.read_csv(\"IMDB Dataset.csv\")"
   ]
  },
  {
   "cell_type": "code",
   "execution_count": 5,
   "metadata": {
    "id": "edUDX3NjRA6Q"
   },
   "outputs": [
    {
     "name": "stderr",
     "output_type": "stream",
     "text": [
      "[nltk_data] Downloading package stopwords to\n",
      "[nltk_data]     C:\\Users\\ALI\\AppData\\Roaming\\nltk_data...\n",
      "[nltk_data]   Package stopwords is already up-to-date!\n"
     ]
    }
   ],
   "source": [
    "df['cleaned_review'] = df['review'].apply(lambda x: re.sub(r'[^a-zA-Z\\s]', '', x))\n",
    "df['cleaned_review'] = df['cleaned_review'].apply(lambda x: x.lower())\n",
    "nltk.download('stopwords')\n",
    "stop_words = set(stopwords.words('english'))\n",
    "df['cleaned_review'] = df['cleaned_review'].apply(lambda x: ' '.join(word for word in x.split() if word not in stop_words))"
   ]
  },
  {
   "cell_type": "code",
   "execution_count": 6,
   "metadata": {
    "id": "RbH9GomiRDJb"
   },
   "outputs": [],
   "source": [
    "X_train, X_test, y_train, y_test = train_test_split(df['cleaned_review'], df['sentiment'], test_size=0.2, random_state=42)"
   ]
  },
  {
   "cell_type": "code",
   "execution_count": 7,
   "metadata": {
    "id": "5ryFfHWIRFL8"
   },
   "outputs": [],
   "source": [
    "# Label Encoding for Sentiment Column\n",
    "label_encoder = LabelEncoder()\n",
    "y_train_encoded = label_encoder.fit_transform(y_train)\n",
    "y_test_encoded = label_encoder.transform(y_test)"
   ]
  },
  {
   "cell_type": "code",
   "execution_count": 8,
   "metadata": {
    "id": "lhVt_kZSRHKC"
   },
   "outputs": [],
   "source": [
    "tokenizer = Tokenizer(num_words=10000, oov_token=\"<OOV>\")\n",
    "tokenizer.fit_on_texts(X_train)\n",
    "X_train_sequences = tokenizer.texts_to_sequences(X_train)\n",
    "X_test_sequences = tokenizer.texts_to_sequences(X_test)\n",
    "X_train_padded = pad_sequences(X_train_sequences, maxlen=100, truncating='post', padding='post')\n",
    "X_test_padded = pad_sequences(X_test_sequences, maxlen=100, truncating='post', padding='post')"
   ]
  },
  {
   "cell_type": "code",
   "execution_count": 9,
   "metadata": {
    "id": "FTtkGY4vRJeP"
   },
   "outputs": [],
   "source": [
    "# Transformer Model Building\n",
    "embedding_dim = 32\n",
    "num_heads = 2\n",
    "ff_dim = 32\n",
    "\n",
    "inputs = Input(shape=(100,))\n",
    "embedding_layer = Embedding(input_dim=10000, output_dim=embedding_dim)(inputs)\n",
    "transformer_block = embedding_layer\n",
    "\n",
    "for _ in range(num_heads):\n",
    "    attn_output = Attention(use_scale=True)([transformer_block, transformer_block])\n",
    "    transformer_block = LayerNormalization(epsilon=1e-6)(transformer_block + attn_output)\n",
    "    transformer_block = Dropout(0.1)(transformer_block)\n",
    "\n",
    "transformer_block = tf.keras.layers.Conv1D(filters=ff_dim, kernel_size=1, activation='relu')(transformer_block)\n",
    "transformer_block = tf.keras.layers.GlobalAveragePooling1D()(transformer_block)\n",
    "transformer_block = Dropout(0.1)(transformer_block)\n",
    "transformer_block = Dense(20, activation='relu')(transformer_block)\n",
    "output_layer = Dense(1, activation='sigmoid')(transformer_block)\n",
    "\n",
    "model = Model(inputs=inputs, outputs=output_layer)"
   ]
  },
  {
   "cell_type": "code",
   "execution_count": 10,
   "metadata": {
    "id": "r8CxdZamRMFV"
   },
   "outputs": [
    {
     "name": "stdout",
     "output_type": "stream",
     "text": [
      "Epoch 1/5\n",
      "1250/1250 [==============================] - 40s 31ms/step - loss: 0.3760 - accuracy: 0.8296 - val_loss: 0.3030 - val_accuracy: 0.8711\n",
      "Epoch 2/5\n",
      "1250/1250 [==============================] - 38s 31ms/step - loss: 0.2601 - accuracy: 0.8919 - val_loss: 0.3075 - val_accuracy: 0.8693\n",
      "Epoch 3/5\n",
      "1250/1250 [==============================] - 37s 30ms/step - loss: 0.2080 - accuracy: 0.9140 - val_loss: 0.3318 - val_accuracy: 0.8671\n",
      "Epoch 4/5\n",
      "1250/1250 [==============================] - 37s 30ms/step - loss: 0.1522 - accuracy: 0.9369 - val_loss: 0.4150 - val_accuracy: 0.8635\n",
      "Epoch 5/5\n",
      "1250/1250 [==============================] - 36s 29ms/step - loss: 0.1032 - accuracy: 0.9562 - val_loss: 0.4980 - val_accuracy: 0.8576\n"
     ]
    },
    {
     "data": {
      "text/plain": [
       "<keras.src.callbacks.History at 0x1f3589800d0>"
      ]
     },
     "execution_count": 10,
     "metadata": {},
     "output_type": "execute_result"
    }
   ],
   "source": [
    "model.compile(optimizer='adam', loss='binary_crossentropy', metrics=['accuracy'])\n",
    "model.fit(X_train_padded, y_train_encoded, epochs=5, validation_data=(X_test_padded, y_test_encoded))"
   ]
  },
  {
   "cell_type": "code",
   "execution_count": 13,
   "metadata": {
    "id": "V3oxW0a2ROlK"
   },
   "outputs": [
    {
     "name": "stdout",
     "output_type": "stream",
     "text": [
      "313/313 [==============================] - 3s 10ms/step\n",
      "Accuracy: 0.8576\n",
      "Classification Report:\n",
      "               precision    recall  f1-score   support\n",
      "\n",
      "           0       0.85      0.87      0.86      4961\n",
      "           1       0.86      0.85      0.86      5039\n",
      "\n",
      "    accuracy                           0.86     10000\n",
      "   macro avg       0.86      0.86      0.86     10000\n",
      "weighted avg       0.86      0.86      0.86     10000\n",
      "\n"
     ]
    }
   ],
   "source": [
    "y_pred_prob = model.predict(X_test_padded)\n",
    "y_pred = (y_pred_prob > 0.5).astype(int)\n",
    "\n",
    "# Converting back to original labels\n",
    "y_pred_original = label_encoder.inverse_transform(y_pred.flatten())\n",
    "\n",
    "print(\"Accuracy:\", accuracy_score(y_test_encoded, y_pred))\n",
    "print(\"Classification Report:\\n\", classification_report(y_test_encoded, y_pred))"
   ]
  },
  {
   "cell_type": "code",
   "execution_count": 15,
   "metadata": {
    "id": "kJP4ihNSRSkx"
   },
   "outputs": [],
   "source": [
    "model.save('transformer_classification_sentiment_model.h5')"
   ]
  },
  {
   "cell_type": "code",
   "execution_count": 16,
   "metadata": {},
   "outputs": [],
   "source": [
    "import pickle\n",
    "\n",
    "# Enregistrer le tokenizer dans un fichier\n",
    "with open('tokenizer.pickle', 'wb') as handle:\n",
    "    pickle.dump(tokenizer, handle, protocol=pickle.HIGHEST_PROTOCOL)"
   ]
  }
 ],
 "metadata": {
  "colab": {
   "provenance": []
  },
  "kernelspec": {
   "display_name": "Python 3",
   "language": "python",
   "name": "python3"
  },
  "language_info": {
   "codemirror_mode": {
    "name": "ipython",
    "version": 3
   },
   "file_extension": ".py",
   "mimetype": "text/x-python",
   "name": "python",
   "nbconvert_exporter": "python",
   "pygments_lexer": "ipython3",
   "version": "3.8.8"
  }
 },
 "nbformat": 4,
 "nbformat_minor": 1
}
